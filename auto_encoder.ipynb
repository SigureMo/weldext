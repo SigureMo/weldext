{
 "nbformat": 4,
 "nbformat_minor": 2,
 "metadata": {
  "language_info": {
   "name": "python",
   "codemirror_mode": {
    "name": "ipython",
    "version": 3
   },
   "version": "3.6.8-final"
  },
  "orig_nbformat": 2,
  "file_extension": ".py",
  "mimetype": "text/x-python",
  "name": "python",
  "npconvert_exporter": "python",
  "pygments_lexer": "ipython3",
  "version": 3,
  "kernelspec": {
   "name": "python36864bit7fe4854bb92844969d9d4c428ccba8b4",
   "display_name": "Python 3.6.8 64-bit"
  }
 },
 "cells": [
  {
   "cell_type": "code",
   "execution_count": null,
   "metadata": {},
   "outputs": [],
   "source": [
    "import matplotlib.pyplot as plt\n",
    "import numpy as np\n",
    "import tensorflow as tf"
   ]
  },
  {
   "cell_type": "code",
   "execution_count": null,
   "metadata": {},
   "outputs": [],
   "source": [
    "from algorithms.utils import MNISTLoader\n",
    "from algorithms import softmax, mlp, cnn, auto_encoder"
   ]
  },
  {
   "cell_type": "code",
   "execution_count": null,
   "metadata": {},
   "outputs": [],
   "source": [
    "data_loader = MNISTLoader()"
   ]
  },
  {
   "cell_type": "markdown",
   "execution_count": null,
   "metadata": {},
   "outputs": [],
   "source": [
    "# Pretrain AutoEncoder"
   ]
  },
  {
   "cell_type": "code",
   "execution_count": null,
   "metadata": {},
   "outputs": [],
   "source": [
    "stacked_auto_encoder = auto_encoder.StackedAutoEncoder([1024, 512, 128])\n",
    "stacked_auto_encoder.build(input_shape=(1, 784))\n",
    "stacked_auto_encoder.train(data_loader, train_layer=0, num_epochs=5, learning_rate=1e-4, batch_size=64, sparse=True, denoise=True)\n",
    "stacked_auto_encoder.train(data_loader, train_layer=1, num_epochs=5, learning_rate=1e-4, batch_size=64, sparse=False, denoise=True)\n",
    "stacked_auto_encoder.train(data_loader, train_layer=2, num_epochs=5, learning_rate=1e-4, batch_size=64, sparse=False, denoise=True)"
   ]
  },
  {
   "cell_type": "code",
   "execution_count": null,
   "metadata": {},
   "outputs": [],
   "source": [
    "X, y = next(data_loader())\n",
    "img = X[0]\n",
    "plt.imshow(img.squeeze(), cmap='gray')\n",
    "plt.show()\n",
    "img_reconstruct_1 = stacked_auto_encoder(img.reshape(1, 784), stop_at=1).numpy().reshape([28, 28])\n",
    "plt.imshow(img_reconstruct_1, cmap='gray')\n",
    "plt.show()\n",
    "img_reconstruct_2 = stacked_auto_encoder(img.reshape(1, 784), stop_at=2).numpy().reshape([28, 28])\n",
    "plt.imshow(img_reconstruct_2, cmap='gray')\n",
    "plt.show()\n",
    "img_reconstruct_3 = stacked_auto_encoder(img.reshape(1, 784), stop_at=3).numpy().reshape([28, 28])\n",
    "plt.imshow(img_reconstruct_3, cmap='gray')\n",
    "plt.show()"
   ]
  },
  {
   "cell_type": "code",
   "execution_count": null,
   "metadata": {},
   "outputs": [],
   "source": [
    "def train_model(model, num_epochs=5, learning_rate=1e-4, batch_size=64):\n",
    "    optimizer = tf.keras.optimizers.Adam(learning_rate=learning_rate)\n",
    "    loss_object = tf.keras.losses.SparseCategoricalCrossentropy()\n",
    "\n",
    "    train_loss = tf.keras.metrics.Mean(name='train_loss')\n",
    "    train_accuracy = tf.keras.metrics.SparseCategoricalAccuracy(name='train_accuracy')\n",
    "\n",
    "    test_loss = tf.keras.metrics.Mean(name='test_loss')\n",
    "    test_accuracy = tf.keras.metrics.SparseCategoricalAccuracy(name='test_accuracy')\n",
    "    @tf.function\n",
    "    def train_on_batch(X_batch, y_batch):\n",
    "        with tf.GradientTape() as tape:\n",
    "            y_pred = model(X_batch)\n",
    "            loss = loss_object(y_true=y_batch, y_pred=y_pred)\n",
    "            loss = tf.reduce_mean(loss)\n",
    "        grads = tape.gradient(loss, model.variables)\n",
    "        optimizer.apply_gradients(grads_and_vars=zip(grads, model.variables))\n",
    "\n",
    "        train_loss(loss)\n",
    "        train_accuracy(y_batch, y_pred)\n",
    "        return loss\n",
    "\n",
    "    @tf.function\n",
    "    def test_on_batch(X_batch, y_batch):\n",
    "        y_pred = model(X_batch)\n",
    "        t_loss = loss_object(y_batch, y_pred)\n",
    "\n",
    "        test_loss(t_loss)\n",
    "        test_accuracy(y_batch, y_pred)\n",
    "        return t_loss\n",
    "\n",
    "    for epoch in range(num_epochs):\n",
    "\n",
    "        train_loss.reset_states()\n",
    "        train_accuracy.reset_states()\n",
    "        test_loss.reset_states()\n",
    "        test_accuracy.reset_states()\n",
    "\n",
    "        # Training\n",
    "        for batch_index, (X_batch, y_batch) in enumerate(data_loader(batch_size=batch_size, data_type='train')):\n",
    "            X_batch = X_batch.reshape(X_batch.shape[0], X_batch.shape[1]*X_batch.shape[2])\n",
    "            loss = train_on_batch(X_batch, y_batch)\n",
    "            template = '[Training] Epoch {}, Batch {}/{}, Loss: {}, Accuracy: {:.2%} '\n",
    "            print(template.format(epoch+1,\n",
    "                                batch_index,\n",
    "                                data_loader.train_size // batch_size,\n",
    "                                loss,\n",
    "                                train_accuracy.result()),\n",
    "                end='\\r')\n",
    "\n",
    "        # Testing\n",
    "        for batch_index, (X_batch, y_batch) in enumerate(data_loader(batch_size=batch_size, data_type='test')):\n",
    "            X_batch = X_batch.reshape(X_batch.shape[0], X_batch.shape[1]*X_batch.shape[2])\n",
    "            loss = test_on_batch(X_batch, y_batch)\n",
    "            template = '[Testing] Epoch {}, Batch {}/{}, Loss: {}, Accuracy: {:.2%} '\n",
    "            print(template.format(epoch+1,\n",
    "                                batch_index,\n",
    "                                data_loader.test_size // batch_size,\n",
    "                                loss,\n",
    "                                test_accuracy.result()),\n",
    "                end='\\r')\n",
    "\n",
    "        template = 'Epoch {}, Loss: {}, Accuracy: {:.2%}, Test Loss: {}, Test Accuracy: {:.2%} '\n",
    "        print(template.format(epoch+1,\n",
    "                            train_loss.result(),\n",
    "                            train_accuracy.result(),\n",
    "                            test_loss.result(),\n",
    "                            test_accuracy.result()))"
   ]
  },
  {
   "cell_type": "code",
   "execution_count": null,
   "metadata": {},
   "outputs": [],
   "source": [
    "inputs = tf.keras.Input(shape=(784, ))\n",
    "x = inputs\n",
    "x = stacked_auto_encoder.encode(x)\n",
    "x = tf.keras.layers.Dense(10, activation='softmax')(x)\n",
    "outputs = x\n",
    "model = tf.keras.Model(inputs=inputs, outputs=outputs)"
   ]
  },
  {
   "cell_type": "markdown",
   "execution_count": null,
   "metadata": {},
   "outputs": [],
   "source": [
    "# Pretrain Softmax Layer"
   ]
  },
  {
   "cell_type": "code",
   "execution_count": null,
   "metadata": {},
   "outputs": [],
   "source": [
    "for ae in stacked_auto_encoder:\n",
    "    ae.trainable = False\n",
    "model.summary()\n",
    "\n",
    "train_model(model, num_epochs=20, learning_rate=1e-4, batch_size=64)"
   ]
  },
  {
   "cell_type": "markdown",
   "execution_count": null,
   "metadata": {},
   "outputs": [],
   "source": [
    "# Fine Tuning"
   ]
  },
  {
   "cell_type": "code",
   "execution_count": null,
   "metadata": {},
   "outputs": [],
   "source": [
    "for ae in stacked_auto_encoder:\n",
    "    ae.trainable = True\n",
    "model.summary()\n",
    "\n",
    "train_model(model, num_epochs=50, learning_rate=1e-5, batch_size=256)"
   ]
  },
  {
   "cell_type": "code",
   "execution_count": null,
   "metadata": {},
   "outputs": [],
   "source": []
  }
 ]
}