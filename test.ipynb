{
 "nbformat": 4,
 "nbformat_minor": 2,
 "metadata": {
  "language_info": {
   "name": "python",
   "codemirror_mode": {
    "name": "ipython",
    "version": 3
   },
   "version": "3.6.8-final"
  },
  "orig_nbformat": 2,
  "file_extension": ".py",
  "mimetype": "text/x-python",
  "name": "python",
  "npconvert_exporter": "python",
  "pygments_lexer": "ipython3",
  "version": 3,
  "kernelspec": {
   "name": "python36864bit7fe4854bb92844969d9d4c428ccba8b4",
   "display_name": "Python 3.6.8 64-bit"
  }
 },
 "cells": [
  {
   "cell_type": "code",
   "execution_count": null,
   "metadata": {},
   "outputs": [],
   "source": [
    "import matplotlib.pyplot as plt\n",
    "import numpy as np\n",
    "import tensorflow as tf"
   ]
  },
  {
   "cell_type": "code",
   "execution_count": null,
   "metadata": {},
   "outputs": [],
   "source": [
    "from algorithms.utils import MNISTLoader, ZeroMetric\n",
    "from algorithms import softmax, mlp, cnn, auto_encoder"
   ]
  },
  {
   "cell_type": "code",
   "execution_count": null,
   "metadata": {},
   "outputs": [],
   "source": [
    "batch_size = 256\n",
    "num_epochs = 100\n",
    "learning_rate = 1e-4\n",
    "optimizer = tf.keras.optimizers.Adam(learning_rate=learning_rate)\n",
    "loss_object = tf.keras.losses.SparseCategoricalCrossentropy()\n",
    "\n",
    "train_loss = tf.keras.metrics.Mean(name='train_loss')\n",
    "train_accuracy = tf.keras.metrics.SparseCategoricalAccuracy(name='train_accuracy')\n",
    "\n",
    "test_loss = tf.keras.metrics.Mean(name='test_loss')\n",
    "test_accuracy = tf.keras.metrics.SparseCategoricalAccuracy(name='test_accuracy')"
   ]
  },
  {
   "cell_type": "code",
   "execution_count": null,
   "metadata": {},
   "outputs": [],
   "source": [
    "model = softmax.Softmax() # 92.48%\n",
    "# model = mlp.MLP() # 97.60%\n",
    "# model = cnn.CNN() # 99.20%\n",
    "# model = auto_encoder.AutoEncoder(1000)\n",
    "data_loader = MNISTLoader()"
   ]
  },
  {
   "cell_type": "code",
   "execution_count": null,
   "metadata": {},
   "outputs": [],
   "source": [
    "X, y = next(data_loader.batch_loader())"
   ]
  },
  {
   "cell_type": "code",
   "execution_count": null,
   "metadata": {},
   "outputs": [],
   "source": [
    "idx = 19\n",
    "plt.imshow(X[idx].squeeze(), cmap='gray')\n",
    "plt.title(y[idx])\n",
    "plt.show()"
   ]
  },
  {
   "cell_type": "code",
   "execution_count": null,
   "metadata": {},
   "outputs": [],
   "source": [
    "@tf.function\n",
    "def train_on_batch(X_batch, y_batch):\n",
    "    with tf.GradientTape() as tape:\n",
    "        y_pred = model(X_batch)\n",
    "        loss = loss_object(y_true=y_batch, y_pred=y_pred)\n",
    "        loss = tf.reduce_mean(loss)\n",
    "    grads = tape.gradient(loss, model.variables)\n",
    "    optimizer.apply_gradients(grads_and_vars=zip(grads, model.variables))\n",
    "\n",
    "    train_loss(loss)\n",
    "    train_accuracy(y_batch, y_pred)\n",
    "    return loss\n",
    "\n",
    "@tf.function\n",
    "def test_on_batch(X_batch, y_batch):\n",
    "    y_pred = model(X_batch)\n",
    "    t_loss = loss_object(y_batch, y_pred)\n",
    "\n",
    "    test_loss(t_loss)\n",
    "    test_accuracy(y_batch, y_pred)\n",
    "    return t_loss\n",
    "\n",
    "for epoch in range(num_epochs):\n",
    "\n",
    "    train_loss.reset_states()\n",
    "    train_accuracy.reset_states()\n",
    "    test_loss.reset_states()\n",
    "    test_accuracy.reset_states()\n",
    "\n",
    "    # Training\n",
    "    for batch_index, (X_batch, y_batch) in enumerate(data_loader.batch_loader(batch_size=batch_size, data_type='train')):\n",
    "        loss = train_on_batch(X_batch, y_batch)\n",
    "        template = '[Training] Epoch {}, Batch {}/{}, Loss: {}, Accuracy: {:.2%} '\n",
    "        print(template.format(epoch+1,\n",
    "                              batch_index,\n",
    "                              data_loader.train_size // batch_size,\n",
    "                              loss,\n",
    "                              train_accuracy.result()),\n",
    "             end='\\r')\n",
    "\n",
    "    # Testing\n",
    "    for batch_index, (X_batch, y_batch) in enumerate(data_loader.batch_loader(batch_size=batch_size, data_type='test')):\n",
    "        loss = test_on_batch(X_batch, y_batch)\n",
    "        template = '[Testing] Epoch {}, Batch {}/{}, Loss: {}, Accuracy: {:.2%} '\n",
    "        print(template.format(epoch+1,\n",
    "                              batch_index,\n",
    "                              data_loader.test_size // batch_size,\n",
    "                              loss,\n",
    "                              test_accuracy.result()),\n",
    "             end='\\r')\n",
    "\n",
    "    template = 'Epoch {}, Loss: {}, Accuracy: {:.2%}, Test Loss: {}, Test Accuracy: {:.2%} '\n",
    "    print(template.format(epoch+1,\n",
    "                         train_loss.result(),\n",
    "                         train_accuracy.result(),\n",
    "                         test_loss.result(),\n",
    "                         test_accuracy.result()))"
   ]
  },
  {
   "cell_type": "code",
   "execution_count": null,
   "metadata": {},
   "outputs": [],
   "source": []
  }
 ]
}